{
 "cells": [
  {
   "cell_type": "code",
   "execution_count": 71,
   "id": "eeb7cc3b",
   "metadata": {},
   "outputs": [],
   "source": [
    "import re\n",
    "import os\n",
    "from collections import Counter\n",
    "\n",
    "import numpy as np\n",
    "\n",
    "import matplotlib.pyplot as plt\n",
    "\n",
    "import nltk\n",
    "import email\n",
    "import string\n",
    "from bs4 import BeautifulSoup\n",
    "from nltk.corpus import stopwords\n",
    "\n",
    "from nltk.stem import PorterStemmer\n",
    "from nltk.stem import WordNetLemmatizer\n",
    "\n",
    "import torch\n",
    "import torch.nn as nn\n",
    "from torch.utils.data import Dataset\n",
    "from torch.utils.data import DataLoader\n",
    "from torch.nn.utils.rnn import pad_sequence\n",
    "from torch.optim import Adam\n",
    "\n",
    "from sklearn.svm import SVC\n",
    "from sklearn.naive_bayes import MultinomialNB\n",
    "from sklearn.model_selection import GridSearchCV\n",
    "from sklearn.base import BaseEstimator, TransformerMixin\n",
    "from sklearn.metrics import accuracy_score\n",
    "from sklearn.metrics import roc_curve"
   ]
  },
  {
   "cell_type": "code",
   "execution_count": 72,
   "id": "72897fe3",
   "metadata": {},
   "outputs": [
    {
     "name": "stderr",
     "output_type": "stream",
     "text": [
      "[nltk_data] Downloading package wordnet to C:\\Users\\Asus Zenbook\n",
      "[nltk_data]     Flip\\AppData\\Roaming\\nltk_data...\n",
      "[nltk_data]   Package wordnet is already up-to-date!\n"
     ]
    },
    {
     "data": {
      "text/plain": [
       "True"
      ]
     },
     "execution_count": 72,
     "metadata": {},
     "output_type": "execute_result"
    }
   ],
   "source": [
    "seed = 42\n",
    "def set_seed(self, seed=42):\n",
    "    torch.backends.cudnn.deterministic = True\n",
    "    torch.backends.cudnn.benchmark = False\n",
    "    torch.manual_seed(seed)#seeting up torch seed\n",
    "    np.random.seed(seed)#setting up numpy seed\n",
    "set_seed(seed)\n",
    "nltk.download('wordnet')"
   ]
  },
  {
   "cell_type": "code",
   "execution_count": 73,
   "id": "7758c49a",
   "metadata": {},
   "outputs": [],
   "source": [
    "for filename in os.listdir(os.path.abspath(\"spam\")):\n",
    "    try:\n",
    "        with open(os.path.join(\"spam\", filename), \"r\", encoding=\"utf-8\") as file:\n",
    "            content = file.read()\n",
    "    except UnicodeDecodeError:\n",
    "        with open(os.path.join(\"spam\", filename), \"r\", encoding=\"latin-1\") as file:\n",
    "            content = file.read()\n",
    "        with open(os.path.join(\"spam\", filename), \"w\", encoding=\"utf-8\") as file:\n",
    "            file.write(content)\n",
    "for filename in os.listdir(os.path.abspath(\"ham\")):\n",
    "    try:\n",
    "        with open(os.path.join(\"ham\", filename), \"r\", encoding=\"utf-8\") as file:\n",
    "            content = file.read()\n",
    "    except UnicodeDecodeError:\n",
    "        with open(os.path.join(\"ham\", filename), \"r\", encoding=\"latin-1\") as file:\n",
    "            content = file.read()\n",
    "        with open(os.path.join(\"ham\", filename), \"w\", encoding=\"utf-8\") as file:\n",
    "            file.write(content)"
   ]
  },
  {
   "cell_type": "code",
   "execution_count": 74,
   "id": "e59b4afc",
   "metadata": {},
   "outputs": [],
   "source": [
    "class clean_dataset(BaseEstimator, TransformerMixin):\n",
    "\n",
    "    def __init__(self):\n",
    "        pass\n",
    "\n",
    "    def fit(self, X, y=None): \n",
    "        return self\n",
    "    \n",
    "    def process(self, mail):\n",
    "        stemmer = PorterStemmer()\n",
    "        lemmatizer = WordNetLemmatizer()\n",
    "\n",
    "        b = email.message_from_string(mail)\n",
    "        body = \"\"\n",
    "        if b.is_multipart():\n",
    "            for part in b.walk():\n",
    "                ctype = part.get_content_type()\n",
    "                cdispo = str(part.get('Content-Disspamition'))\n",
    "                if ctype == 'text/plain' and 'attachment' not in cdispo:\n",
    "                    body = part.get_payload(decode=True)  \n",
    "                    break\n",
    "        else:\n",
    "            body = b.get_payload(decode=True) # récupérer le corp de l'email\n",
    "\n",
    "        #HTML\n",
    "        soup = BeautifulSoup(body, \"html.parser\") \n",
    "\n",
    "        #lower case\n",
    "        text = soup.get_text().lower()\n",
    "\n",
    "        #dollars\n",
    "        text = text.replace('$', \" dollar \")\n",
    "\n",
    "        #URLs\n",
    "        text = re.sub(r'(https|http)?:\\/\\/(\\w|\\.|\\/|\\?|\\=|\\&|\\%)*\\b', 'httpaddr', text, flags=re.MULTILINE)\n",
    "\n",
    "        #emails\n",
    "        text = re.sub(r'\\b[A-Za-z0-9._%+-]+@[A-Za-z0-9.-]+\\.[A-Z|a-z]{2,}\\b', 'emailaddr', text, flags=re.MULTILINE) \n",
    "\n",
    "        #punctuation\n",
    "        text = text.translate(str.maketrans('', '', string.punctuation)) \n",
    "        \n",
    "        #numbers\n",
    "        text = re.sub(r'\\d+', 'nombre', text, flags=re.MULTILINE)\n",
    "\n",
    "        # tokenize\n",
    "        tokenizer = nltk.tokenize.TreebankWordTokenizer()\n",
    "        tokens = tokenizer.tokenize(text)\n",
    "\n",
    "        # stemming\n",
    "        stemmer = nltk.stem.snowball.SnowballStemmer(\"english\")\n",
    "        tokens = [stemmer.stem(text) for token in tokens if text.isalpha()]\n",
    "        \n",
    "        #vocabulary\n",
    "        nltk.download('stopwords', quiet=True)\n",
    "        stopwords = nltk.corpus.stopwords.words('english')\n",
    "        raw_vocab=text.split()\n",
    "        raw_vocab = [x for x in raw_vocab if x not in stopwords] \n",
    "\n",
    "        return raw_vocab"
   ]
  },
  {
   "cell_type": "code",
   "execution_count": 75,
   "id": "2c6d96d2",
   "metadata": {},
   "outputs": [
    {
     "name": "stderr",
     "output_type": "stream",
     "text": [
      "C:\\Users\\Asus Zenbook Flip\\AppData\\Local\\Temp\\ipykernel_21968\\3968768072.py:26: MarkupResemblesLocatorWarning: The input looks more like a filename than markup. You may want to open this file and pass the filehandle into Beautiful Soup.\n",
      "  soup = BeautifulSoup(body, \"html.parser\")\n",
      "C:\\Users\\Asus Zenbook Flip\\AppData\\Local\\Temp\\ipykernel_21968\\3968768072.py:26: MarkupResemblesLocatorWarning: The input looks more like a URL than markup. You may want to use an HTTP client like requests to get the document behind the URL, and feed that document to Beautiful Soup.\n",
      "  soup = BeautifulSoup(body, \"html.parser\")\n",
      "Some characters could not be decoded, and were replaced with REPLACEMENT CHARACTER.\n",
      "Some characters could not be decoded, and were replaced with REPLACEMENT CHARACTER.\n",
      "Some characters could not be decoded, and were replaced with REPLACEMENT CHARACTER.\n",
      "Some characters could not be decoded, and were replaced with REPLACEMENT CHARACTER.\n"
     ]
    },
    {
     "name": "stdout",
     "output_type": "stream",
     "text": [
      "There are 560314 tokens in the raw vocabulary\n"
     ]
    }
   ],
   "source": [
    "em = clean_dataset()\n",
    "raw_vocab = []\n",
    "spam_raw_vocab = []\n",
    "ham_raw_vocab = []\n",
    "\n",
    "spam = 0\n",
    "ham = 0\n",
    "\n",
    "#creation of the spam vocabulary\n",
    "for filename in os.listdir(os.path.abspath(\"spam\")):\n",
    "    with open(os.path.join(\"spam\", filename), \"r\", encoding=\"utf-8\") as file_content:\n",
    "        tokens = em.process(file_content.read())\n",
    "        spam_raw_vocab += tokens#.split()\n",
    "        spam += 1\n",
    "\n",
    "#creation of the ham vocabulary\n",
    "for filename in os.listdir(os.path.abspath(\"ham\")):\n",
    "    with open(os.path.join(\"ham\", filename), \"r\", encoding=\"utf-8\") as file_content:\n",
    "        tokens = em.process(file_content.read())\n",
    "        ham_raw_vocab += tokens\n",
    "        ham += 1\n",
    "\n",
    "raw_vocab = ham_raw_vocab + spam_raw_vocab\n",
    "print(\"There are\", len(raw_vocab), \"tokens in the raw vocabulary\")"
   ]
  },
  {
   "cell_type": "code",
   "execution_count": 76,
   "id": "8357d8a6",
   "metadata": {},
   "outputs": [
    {
     "data": {
      "image/png": "[encoded data removed]",
      "text/plain": [
       "<Figure size 1200x500 with 1 Axes>"
      ]
     },
     "metadata": {},
     "output_type": "display_data"
    },
    {
     "data": {
      "text/plain": [
       "(1397, 2551)"
      ]
     },
     "execution_count": 76,
     "metadata": {},
     "output_type": "execute_result"
    }
   ],
   "source": [
    "data = [ham/(ham + spam), spam/(ham + spam)]\n",
    "labels = ['non_spam', 'spam']\n",
    "colors = ['orange', 'green']\n",
    "plt.figure(figsize=(12, 5))\n",
    "plt.pie(data, labels = labels, autopct='%.0f%%', colors=colors)\n",
    "plt.show()\n",
    "spam,ham"
   ]
  },
  {
   "cell_type": "code",
   "execution_count": null,
   "id": "f3edd986",
   "metadata": {},
   "outputs": [],
   "source": []
  },
  {
   "cell_type": "code",
   "execution_count": 77,
   "id": "1521a06a",
   "metadata": {},
   "outputs": [
    {
     "name": "stdout",
     "output_type": "stream",
     "text": [
      "There are 5000 different tokens after cleaning\n"
     ]
    }
   ],
   "source": [
    "#reducing the vocabulary to the 5000 most frequent words only\n",
    "vocabulary_size = 5000\n",
    "bag_of_words = Counter(raw_vocab)\n",
    "vocab = [x[0] for x in bag_of_words.most_common(vocabulary_size)]\n",
    "print(\"There are\", len(vocab), \"different tokens after cleaning\")"
   ]
  },
  {
   "cell_type": "code",
   "execution_count": 78,
   "id": "54342379",
   "metadata": {},
   "outputs": [],
   "source": [
    "#keeping words that appear at least 20 times \n",
    "K = 20 #hna ilies der vocab te3 raw_vocab y3ni spam w ham, bsh prof 9alt fl'ennoce te3 spam brk, wten der most common words y3ni meshi b K, lzm b K\n",
    "vocab = []\n",
    "for word in set(spam_raw_vocab):\n",
    "    if raw_vocab.count(word) == K:\n",
    "        vocab.append(word)"
   ]
  },
  {
   "cell_type": "code",
   "execution_count": 79,
   "id": "14dc228a",
   "metadata": {},
   "outputs": [
    {
     "data": {
      "text/plain": [
       "112"
      ]
     },
     "execution_count": 79,
     "metadata": {},
     "output_type": "execute_result"
    }
   ],
   "source": [
    "len(vocab)"
   ]
  },
  {
   "cell_type": "code",
   "execution_count": 80,
   "id": "42bc14b1",
   "metadata": {},
   "outputs": [],
   "source": [
    "#creating the vocabulary file (dictionary)\n",
    "with open(\"vocab.txt\", \"w\", encoding=\"utf-8\") as f:\n",
    "    for word in vocab:\n",
    "        f.write(word + \"\\n\")"
   ]
  },
  {
   "cell_type": "code",
   "execution_count": 81,
   "id": "ad27b5ef",
   "metadata": {},
   "outputs": [],
   "source": [
    "#Mapping\n",
    "word_to_index = {}\n",
    "index_to_word = {}\n",
    "for index, word in enumerate(vocab): #assign index to words in vocab\n",
    "    word_to_index[word] = index + 1 #index=word\n",
    "    index_to_word[index + 1] = word #index=number"
   ]
  },
  {
   "cell_type": "code",
   "execution_count": 82,
   "id": "27f661f4",
   "metadata": {},
   "outputs": [],
   "source": [
    "#for this function ilies khdm biha fhis class \"MailDataset\" bsh idk elle sert a quoi apres, we'll see ida s7a9inaha\n",
    "#La fonction prend une liste de tokens en entrée et renvoie une liste d'entiers encodant ces tokens en utilisant un dictionnaire word_to_index qui associe chaque mot à un indice unique. La fonction filtre également les tokens qui ne sont pas présents dans le dictionnaire word_to_index.\n",
    "def transform(tokens):\n",
    "    #what about raw_vocab(exluding and,ect) and taking only >5000\n",
    "    encoded_tokens = [word_to_index.get(word, 0) for word in tokens if word in word_to_index]\n",
    "    return encoded_tokens"
   ]
  },
  {
   "cell_type": "code",
   "execution_count": 83,
   "id": "ba3d4c96",
   "metadata": {},
   "outputs": [
    {
     "data": {
      "text/plain": [
       "'wed'"
      ]
     },
     "execution_count": 83,
     "metadata": {},
     "output_type": "execute_result"
    }
   ],
   "source": [
    "raw_vocab[1]"
   ]
  },
  {
   "cell_type": "code",
   "execution_count": 84,
   "id": "ef6ded5e",
   "metadata": {},
   "outputs": [],
   "source": [
    "class MailDataset(Dataset):\n",
    "    def __init__(self, \n",
    "            spam_files,\n",
    "            ham_files,\n",
    "            transform=transform,\n",
    "            spam_class_dir=\"spam\",\n",
    "            ham_class_dir=\"ham\"):\n",
    "        \n",
    "        self.spam_class_dir = spam_class_dir\n",
    "        self.ham_class_dir = ham_class_dir\n",
    "        self.spam_files = spam_files\n",
    "        self.ham_files = ham_files\n",
    "        self.transform = transform\n",
    "        #list of tuples (mail, label), mail == encoded tokens, lable == 0 for ham & 1 for spam\n",
    "        self.mails = []\n",
    "\n",
    "        #tokenize and encode the spam emails and updating mails list\n",
    "        for file in self.spam_files:\n",
    "            mail_path = os.path.join(self.spam_class_dir, file)\n",
    "            label = 1\n",
    "            with open(mail_path, \"r\", encoding=\"utf-8\") as file:\n",
    "                mail = [0] + transform(file)\n",
    "            self.mails.append((mail, label))\n",
    "\n",
    "        #tokenize and encode the ham emails and updating mails list\n",
    "        for file in self.ham_files:\n",
    "            mail_path = os.path.join(self.ham_class_dir, file)\n",
    "            label = 0\n",
    "            with open(mail_path, \"r\", encoding=\"utf-8\") as file:\n",
    "                mail = [0] + transform(file)\n",
    "            self.mails.append((mail, label))\n",
    "    \n",
    "    #returns the length of the dztaset\n",
    "    def __len__(self):\n",
    "        return len(self.mails)\n",
    "    \n",
    "    #returns the email (and its label) at the idx index as a tensor(vector)\n",
    "    def __getitem__(self, idx):\n",
    "        mail, label = self.mails[idx]\n",
    "        return torch.unsqueeze(torch.as_tensor(mail), dim=-1).float(), torch.as_tensor(label).float()"
   ]
  },
  {
   "cell_type": "code",
   "execution_count": 85,
   "metadata": {},
   "outputs": [],
   "source": [
    "def create_train_test_dataset(\n",
    "        test_size = 0.3,\n",
    "        spam_class_dir=\"spam\",\n",
    "        ham_class_dir=\"ham\"):\n",
    "    \n",
    "    spam_files = os.listdir(os.path.abspath(spam_class_dir))\n",
    "    ham_files = os.listdir(os.path.abspath(ham_class_dir))\n",
    "    \n",
    "    \n",
    "    shuffled_spam_indices = np.random.permutation(len(spam_files))\n",
    "    shuffled_ham_indices = np.random.permutation(len(ham_files))\n",
    "\n",
    "    spam_test_set_size = int(len(spam_files) * test_size)\n",
    "    ham_test_set_size = int(len(ham_files) * test_size)\n",
    "    \n",
    "    spam_train_indices = shuffled_spam_indices[spam_test_set_size:]\n",
    "    spam_test_indices = shuffled_spam_indices[:spam_test_set_size]\n",
    "    \n",
    "    ham_train_indices = shuffled_ham_indices[ham_test_set_size:]\n",
    "    ham_test_indices = shuffled_ham_indices[:ham_test_set_size]\n",
    "    \n",
    "    spam_train_files = [spam_files[i] for i in spam_train_indices]\n",
    "    ham_train_files = [ham_files[i] for i in ham_train_indices]\n",
    "    \n",
    "    spam_test_files = [spam_files[i] for i in spam_test_indices]\n",
    "    ham_test_files = [ham_files[i] for i in ham_test_indices]\n",
    "    \n",
    "    train_dataset = MailDataset(spam_train_files, ham_train_files)\n",
    "    test_dataset = MailDataset(spam_test_files, ham_test_files)\n",
    "    \n",
    "    return train_dataset, test_dataset"
   ]
  },
  {
   "cell_type": "code",
   "execution_count": 86,
   "id": "8388ae41",
   "metadata": {},
   "outputs": [],
   "source": [
    "train_dataset, test_dataset = create_train_test_dataset()"
   ]
  },
  {
   "cell_type": "code",
   "execution_count": null,
   "id": "691d2ec9",
   "metadata": {},
   "outputs": [],
   "source": [
    "\n"
   ]
  },
  {
   "cell_type": "code",
   "execution_count": 87,
   "id": "d59def7b",
   "metadata": {},
   "outputs": [],
   "source": [
    "#binary representation of features \n",
    "def email_bin_embedding(email):\n",
    "    embedding = np.zeros((1, vocabulary_size))\n",
    "    for word_index in email:\n",
    "        if (word_index.int().item() > 0):\n",
    "            embedding[0, word_index.int().item() - 1] = 1\n",
    "    return embedding"
   ]
  },
  {
   "cell_type": "code",
   "execution_count": 88,
   "id": "885fbca9",
   "metadata": {},
   "outputs": [
    {
     "name": "stdout",
     "output_type": "stream",
     "text": [
      "train set: x (2764, 5000), y (2764,)\n",
      "test set: x (1184, 5000), y (1184,)\n"
     ]
    }
   ],
   "source": [
    "train_full = np.asarray([np.append(email_bin_embedding(x[0]), x[1].item()) for x in train_dataset])\n",
    "train_X, train_y = train_full[:, :-1], train_full[:, -1]\n",
    "\n",
    "test_full = np.asarray([np.append(email_bin_embedding(x[0]), x[1].item()) for x in test_dataset])\n",
    "test_X, test_y = test_full[:, :-1], test_full[:, -1]\n",
    "\n",
    "\n",
    "print(\"train set: x {}, y {}\\ntest set: x {}, y {}\".format(train_X.shape, train_y.shape, test_X.shape, test_y.shape))"
   ]
  },
  {
   "cell_type": "code",
   "execution_count": 89,
   "id": "a9cf6316",
   "metadata": {},
   "outputs": [
    {
     "data": {
      "text/html": [
       "<style>#sk-container-id-4 {color: black;background-color: white;}#sk-container-id-4 pre{padding: 0;}#sk-container-id-4 div.sk-toggleable {background-color: white;}#sk-container-id-4 label.sk-toggleable__label {cursor: pointer;display: block;width: 100%;margin-bottom: 0;padding: 0.3em;box-sizing: border-box;text-align: center;}#sk-container-id-4 label.sk-toggleable__label-arrow:before {content: \"▸\";float: left;margin-right: 0.25em;color: #696969;}#sk-container-id-4 label.sk-toggleable__label-arrow:hover:before {color: black;}#sk-container-id-4 div.sk-estimator:hover label.sk-toggleable__label-arrow:before {color: black;}#sk-container-id-4 div.sk-toggleable__content {max-height: 0;max-width: 0;overflow: hidden;text-align: left;background-color: #f0f8ff;}#sk-container-id-4 div.sk-toggleable__content pre {margin: 0.2em;color: black;border-radius: 0.25em;background-color: #f0f8ff;}#sk-container-id-4 input.sk-toggleable__control:checked~div.sk-toggleable__content {max-height: 200px;max-width: 100%;overflow: auto;}#sk-container-id-4 input.sk-toggleable__control:checked~label.sk-toggleable__label-arrow:before {content: \"▾\";}#sk-container-id-4 div.sk-estimator input.sk-toggleable__control:checked~label.sk-toggleable__label {background-color: #d4ebff;}#sk-container-id-4 div.sk-label input.sk-toggleable__control:checked~label.sk-toggleable__label {background-color: #d4ebff;}#sk-container-id-4 input.sk-hidden--visually {border: 0;clip: rect(1px 1px 1px 1px);clip: rect(1px, 1px, 1px, 1px);height: 1px;margin: -1px;overflow: hidden;padding: 0;position: absolute;width: 1px;}#sk-container-id-4 div.sk-estimator {font-family: monospace;background-color: #f0f8ff;border: 1px dotted black;border-radius: 0.25em;box-sizing: border-box;margin-bottom: 0.5em;}#sk-container-id-4 div.sk-estimator:hover {background-color: #d4ebff;}#sk-container-id-4 div.sk-parallel-item::after {content: \"\";width: 100%;border-bottom: 1px solid gray;flex-grow: 1;}#sk-container-id-4 div.sk-label:hover label.sk-toggleable__label {background-color: #d4ebff;}#sk-container-id-4 div.sk-serial::before {content: \"\";position: absolute;border-left: 1px solid gray;box-sizing: border-box;top: 0;bottom: 0;left: 50%;z-index: 0;}#sk-container-id-4 div.sk-serial {display: flex;flex-direction: column;align-items: center;background-color: white;padding-right: 0.2em;padding-left: 0.2em;position: relative;}#sk-container-id-4 div.sk-item {position: relative;z-index: 1;}#sk-container-id-4 div.sk-parallel {display: flex;align-items: stretch;justify-content: center;background-color: white;position: relative;}#sk-container-id-4 div.sk-item::before, #sk-container-id-4 div.sk-parallel-item::before {content: \"\";position: absolute;border-left: 1px solid gray;box-sizing: border-box;top: 0;bottom: 0;left: 50%;z-index: -1;}#sk-container-id-4 div.sk-parallel-item {display: flex;flex-direction: column;z-index: 1;position: relative;background-color: white;}#sk-container-id-4 div.sk-parallel-item:first-child::after {align-self: flex-end;width: 50%;}#sk-container-id-4 div.sk-parallel-item:last-child::after {align-self: flex-start;width: 50%;}#sk-container-id-4 div.sk-parallel-item:only-child::after {width: 0;}#sk-container-id-4 div.sk-dashed-wrapped {border: 1px dashed gray;margin: 0 0.4em 0.5em 0.4em;box-sizing: border-box;padding-bottom: 0.4em;background-color: white;}#sk-container-id-4 div.sk-label label {font-family: monospace;font-weight: bold;display: inline-block;line-height: 1.2em;}#sk-container-id-4 div.sk-label-container {text-align: center;}#sk-container-id-4 div.sk-container {/* jupyter's `normalize.less` sets `[hidden] { display: none; }` but bootstrap.min.css set `[hidden] { display: none !important; }` so we also need the `!important` here to be able to override the default hidden behavior on the sphinx rendered scikit-learn.org. See: https://github.com/scikit-learn/scikit-learn/issues/21755 */display: inline-block !important;position: relative;}#sk-container-id-4 div.sk-text-repr-fallback {display: none;}</style><div id=\"sk-container-id-4\" class=\"sk-top-container\"><div class=\"sk-text-repr-fallback\"><pre>SVC(C=0.1, kernel=&#x27;linear&#x27;, random_state=42)</pre><b>In a Jupyter environment, please rerun this cell to show the HTML representation or trust the notebook. <br />On GitHub, the HTML representation is unable to render, please try loading this page with nbviewer.org.</b></div><div class=\"sk-container\" hidden><div class=\"sk-item\"><div class=\"sk-estimator sk-toggleable\"><input class=\"sk-toggleable__control sk-hidden--visually\" id=\"sk-estimator-id-4\" type=\"checkbox\" checked><label for=\"sk-estimator-id-4\" class=\"sk-toggleable__label sk-toggleable__label-arrow\">SVC</label><div class=\"sk-toggleable__content\"><pre>SVC(C=0.1, kernel=&#x27;linear&#x27;, random_state=42)</pre></div></div></div></div></div>"
      ],
      "text/plain": [
       "SVC(C=0.1, kernel='linear', random_state=42)"
      ]
     },
     "execution_count": 89,
     "metadata": {},
     "output_type": "execute_result"
    }
   ],
   "source": [
    "from sklearn import svm\n",
    "bin_svm_model = svm.SVC(C=0.1, kernel=\"linear\", random_state=seed)\n",
    "bin_svm_model.fit(train_X, train_y)"
   ]
  },
  {
   "cell_type": "code",
   "execution_count": 90,
   "id": "9dc1fd64",
   "metadata": {},
   "outputs": [
    {
     "name": "stdout",
     "output_type": "stream",
     "text": [
      "train accuracy: 64.6164978292%\n",
      "test accuracy: 64.6114864865%\n"
     ]
    }
   ],
   "source": [
    "train_prediction = bin_svm_model.predict(train_X)\n",
    "test_prediction = bin_svm_model.predict(test_X)\n",
    "\n",
    "train_accuracy = (train_prediction == train_y).mean() * 100\n",
    "test_accuracy = (test_prediction == test_y).mean() * 100\n",
    "\n",
    "print(\"test accuracy: {0:.10f}%\".format(test_accuracy))"
   ]
  },
  {
   "cell_type": "code",
   "execution_count": 91,
   "id": "dab7dc72",
   "metadata": {},
   "outputs": [
    {
     "name": "stdout",
     "output_type": "stream",
     "text": [
      "with threshold = 0.0 | test accuracy is 64.61%\n"
     ]
    },
    {
     "data": {
      "text/plain": [
       "Text(0.5, 0, 'False positive rate')"
      ]
     },
     "execution_count": 91,
     "metadata": {},
     "output_type": "execute_result"
    },
    {
     "data": {
      "image/png": "[encoded data removed]",
      "text/plain": [
       "<Figure size 640x480 with 1 Axes>"
      ]
     },
     "metadata": {},
     "output_type": "display_data"
    }
   ],
   "source": [
    "rain_prediction_scores = bin_svm_model.decision_function(train_X)\n",
    "test_prediction_scores = bin_svm_model.decision_function(test_X)\n",
    "\n",
    "fpr, tpr, thresholds = roc_curve(test_y, test_prediction_scores)\n",
    "\n",
    "gmeans = np.sqrt(tpr * (1-fpr))\n",
    "ix = np.argmax(gmeans)\n",
    "threshold = thresholds[ix]\n",
    "test_prediction = np.asarray([ 1 if x > threshold else 0 for x in test_prediction_scores])\n",
    "print(\"with threshold = {0} | test accuracy is {1:.2f}%\"\n",
    "      .format(threshold, (test_prediction==np.asarray(test_y)).mean() * 100))\n",
    "\n",
    "plt.plot(fpr, tpr, linewidth=2)\n",
    "plt.plot([0, 1], [0, 1], 'k--')\n",
    "plt.ylabel(\"True positive rate (recall)\")\n",
    "plt.xlabel(\"False positive rate\")"
   ]
  }
 ],
 "metadata": {
  "kernelspec": {
   "display_name": "Python 3 (ipykernel)",
   "language": "python",
   "name": "python3"
  },
  "language_info": {
   "codemirror_mode": {
    "name": "ipython",
    "version": 3
   },
   "file_extension": ".py",
   "mimetype": "text/x-python",
   "name": "python",
   "nbconvert_exporter": "python",
   "pygments_lexer": "ipython3",
   "version": "3.11.1"
  }
 },
 "nbformat": 4,
 "nbformat_minor": 5
}
