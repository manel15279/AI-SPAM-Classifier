{
 "cells": [
  {
   "cell_type": "code",
   "execution_count": 780,
   "id": "eeb7cc3b",
   "metadata": {},
   "outputs": [],
   "source": [
    "import re\n",
    "import os\n",
    "from collections import Counter\n",
    "\n",
    "import numpy as np\n",
    "\n",
    "import matplotlib.pyplot as plt\n",
    "\n",
    "import nltk\n",
    "import email\n",
    "import string\n",
    "from bs4 import BeautifulSoup\n",
    "from nltk.corpus import stopwords\n",
    "\n",
    "from nltk.stem import PorterStemmer\n",
    "from nltk.stem import WordNetLemmatizer\n",
    "\n",
    "import torch\n",
    "import torch.nn as nn\n",
    "from torch.utils.data import Dataset\n",
    "from torch.utils.data import DataLoader\n",
    "from torch.nn.utils.rnn import pad_sequence\n",
    "from torch.optim import Adam\n",
    "\n",
    "from sklearn.svm import SVC\n",
    "from sklearn.naive_bayes import MultinomialNB\n",
    "from sklearn.model_selection import GridSearchCV\n",
    "from sklearn.base import BaseEstimator, TransformerMixin\n",
    "from sklearn.metrics import accuracy_score\n",
    "from sklearn.metrics import roc_curve"
   ]
  },
  {
   "cell_type": "code",
   "execution_count": 781,
   "id": "72897fe3",
   "metadata": {},
   "outputs": [
    {
     "name": "stderr",
     "output_type": "stream",
     "text": [
      "[nltk_data] Downloading package wordnet to C:\\Users\\Asus Zenbook\n",
      "[nltk_data]     Flip\\AppData\\Roaming\\nltk_data...\n",
      "[nltk_data]   Package wordnet is already up-to-date!\n"
     ]
    },
    {
     "data": {
      "text/plain": [
       "True"
      ]
     },
     "execution_count": 781,
     "metadata": {},
     "output_type": "execute_result"
    }
   ],
   "source": [
    "def set_seed(seed=42):\n",
    "    torch.backends.cudnn.deterministic = True\n",
    "    torch.backends.cudnn.benchmark = False\n",
    "    torch.manual_seed(seed)\n",
    "    np.random.seed(seed)\n",
    "\n",
    "nltk.download('wordnet')"
   ]
  },
  {
   "cell_type": "code",
   "execution_count": 782,
   "id": "7758c49a",
   "metadata": {},
   "outputs": [],
   "source": [
    "for filename in os.listdir(os.path.abspath(\"spam\")):\n",
    "    try:\n",
    "        with open(os.path.join(\"spam\", filename), \"r\", encoding=\"utf-8\") as file:\n",
    "            content = file.read()\n",
    "    except UnicodeDecodeError:\n",
    "        with open(os.path.join(\"spam\", filename), \"r\", encoding=\"latin-1\") as file:\n",
    "            content = file.read()\n",
    "        with open(os.path.join(\"spam\", filename), \"w\", encoding=\"utf-8\") as file:\n",
    "            file.write(content)\n",
    "for filename in os.listdir(os.path.abspath(\"ham\")):\n",
    "    try:\n",
    "        with open(os.path.join(\"ham\", filename), \"r\", encoding=\"utf-8\") as file:\n",
    "            content = file.read()\n",
    "    except UnicodeDecodeError:\n",
    "        with open(os.path.join(\"ham\", filename), \"r\", encoding=\"latin-1\") as file:\n",
    "            content = file.read()\n",
    "        with open(os.path.join(\"ham\", filename), \"w\", encoding=\"utf-8\") as file:\n",
    "            file.write(content)"
   ]
  },
  {
   "cell_type": "code",
   "execution_count": 783,
   "id": "e59b4afc",
   "metadata": {},
   "outputs": [],
   "source": [
    "stemmer = PorterStemmer()\n",
    "lemmatizer = WordNetLemmatizer()\n",
    "class clean_dataset(BaseEstimator, TransformerMixin):\n",
    "    def __init__(self):\n",
    "        pass\n",
    "    def fit(self, X, y=None): \n",
    "        return self\n",
    "    def transform(self, X):\n",
    "        text_list = []\n",
    "        for mail in X:\n",
    "            b = email.message_from_string(mail)\n",
    "            body = \"\"\n",
    "\n",
    "            if b.is_multipart():\n",
    "                for part in b.walk():\n",
    "                    ctype = part.get_content_type()\n",
    "                    cdispo = str(part.get('Content-Disposition'))\n",
    "                    if ctype == 'text/plain' and 'attachment' not in cdispo:\n",
    "                        body = part.get_payload(decode=True)\n",
    "            else:\n",
    "                body = b.get_payload(decode=True)  # récupérer le corp de l'email\n",
    "            soup = BeautifulSoup(body, \"html.parser\")\n",
    "            text = soup.get_text().lower()\n",
    "             # dollars\n",
    "            text = text.replace('$', \" dollar \")\n",
    "            text = re.sub(r'(https|http)?:\\/\\/(\\w|\\.|\\/|\\?|\\=|\\&|\\%)*\\b', 'httpaddr', text, flags=re.MULTILINE)  # remove links\n",
    "            text = re.sub(r'\\b[A-Za-z0-9._%+-]+@[A-Za-z0-9.-]+\\.[A-Z|a-z]{2,}\\b', 'emailaddr', text, flags=re.MULTILINE)  # remove email addresses\n",
    "            text = text.translate(str.maketrans('', '', string.punctuation))  # remove punctuation\n",
    "            text = re.sub(r'\\d+', 'nombre', text, flags=re.MULTILINE)\n",
    "            stop_words = stopwords.words('english')\n",
    "            words_list = [w for w in text.split() if w not in stop_words]  # remove stop words\n",
    "            words_list = [stemmer.stem(w) for w in words_list]\n",
    "            text_list.append(' '.join(words_list))\n",
    "        return np.array(text_list)"
   ]
  },
  {
   "cell_type": "code",
   "execution_count": 784,
   "id": "2c6d96d2",
   "metadata": {},
   "outputs": [
    {
     "name": "stdout",
     "output_type": "stream",
     "text": [
      "There are 3948 tokens in the raw vocabulary\n"
     ]
    }
   ],
   "source": [
    "\n",
    "spam = []\n",
    "ham = []\n",
    "\n",
    "\n",
    "#creation of the spam vocabulary\n",
    "for filename in os.listdir(os.path.abspath(\"spam\")):\n",
    "    with open(os.path.join(\"spam\", filename), \"r\", encoding=\"utf-8\") as file_content:\n",
    "        mail = file_content.read()\n",
    "        spam.append(mail)\n",
    "\n",
    "#creation of the ham vocabulary\n",
    "for filename in os.listdir(os.path.abspath(\"ham\")):\n",
    "    with open(os.path.join(\"ham\", filename), \"r\", encoding=\"utf-8\") as file_content:\n",
    "        mail = file_content.read()\n",
    "        ham.append(mail)\n",
    "\n",
    "print(\"There are\", len(spam) + len(ham), \"tokens in the raw vocabulary\")"
   ]
  },
  {
   "cell_type": "code",
   "execution_count": 785,
   "id": "8357d8a6",
   "metadata": {},
   "outputs": [
    {
     "data": {
      "image/png": "[encoded data removed]",
      "text/plain": [
       "<Figure size 1200x500 with 1 Axes>"
      ]
     },
     "metadata": {},
     "output_type": "display_data"
    }
   ],
   "source": [
    "data = [len(ham)/len(ham+spam), len(spam)/len(ham+spam)]\n",
    "labels = ['non_spam', 'spam']\n",
    "colors = ['orange', 'green']\n",
    "plt.figure(figsize=(12, 5))\n",
    "plt.pie(data, labels = labels, autopct='%.0f%%', colors=colors)\n",
    "plt.show()"
   ]
  },
  {
   "cell_type": "code",
   "execution_count": 786,
   "id": "f3edd986",
   "metadata": {},
   "outputs": [],
   "source": [
    "np.random.shuffle(ham)\n",
    "np.random.shuffle(spam)"
   ]
  },
  {
   "cell_type": "code",
   "execution_count": 787,
   "id": "1521a06a",
   "metadata": {},
   "outputs": [
    {
     "name": "stderr",
     "output_type": "stream",
     "text": [
      "C:\\Users\\Asus Zenbook Flip\\AppData\\Local\\Temp\\ipykernel_3272\\3939582393.py:22: MarkupResemblesLocatorWarning: The input looks more like a filename than markup. You may want to open this file and pass the filehandle into Beautiful Soup.\n",
      "  soup = BeautifulSoup(body, \"html.parser\")\n",
      "C:\\Users\\Asus Zenbook Flip\\AppData\\Local\\Temp\\ipykernel_3272\\3939582393.py:22: MarkupResemblesLocatorWarning: The input looks more like a URL than markup. You may want to use an HTTP client like requests to get the document behind the URL, and feed that document to Beautiful Soup.\n",
      "  soup = BeautifulSoup(body, \"html.parser\")\n",
      "Some characters could not be decoded, and were replaced with REPLACEMENT CHARACTER.\n",
      "Some characters could not be decoded, and were replaced with REPLACEMENT CHARACTER.\n",
      "Some characters could not be decoded, and were replaced with REPLACEMENT CHARACTER.\n",
      "Some characters could not be decoded, and were replaced with REPLACEMENT CHARACTER.\n"
     ]
    }
   ],
   "source": [
    "email_to_text = clean_dataset()\n",
    "text_ham = email_to_text.transform(ham)\n",
    "text_spam = email_to_text.transform(spam)"
   ]
  },
  {
   "cell_type": "code",
   "execution_count": 788,
   "id": "429e0420",
   "metadata": {},
   "outputs": [
    {
     "name": "stdout",
     "output_type": "stream",
     "text": [
      "dear homeown nombr nombr yr fix rate mortgag interest rate lowest point nombr year help find best rate situat match need hundr lender home improv refin second mortgag home equiti loan even less perfect credit click free quot lock low fix rate today ano cost pocket ano oblig afre consult aall credit grade accept rate low nombr wont stay low forev click base mortgag rate nombr low nombr see lender detail h appli one lend partner get back within nombr hour click remov pleas click\n"
     ]
    }
   ],
   "source": [
    "print(text_spam[0])"
   ]
  },
  {
   "cell_type": "code",
   "execution_count": 789,
   "id": "fda39d17",
   "metadata": {},
   "outputs": [
    {
     "name": "stdout",
     "output_type": "stream",
     "text": [
      "Size of spam vocabulary: 559582\n"
     ]
    }
   ],
   "source": [
    "raw_vocab = []\n",
    "for email in np.concatenate([text_spam, text_ham], axis=0):\n",
    "    raw_vocab.extend(email.split())\n",
    "\n",
    "print(\"Size of spam vocabulary:\", len(raw_vocab))"
   ]
  },
  {
   "cell_type": "code",
   "execution_count": 790,
   "id": "1dfccb9e",
   "metadata": {},
   "outputs": [
    {
     "name": "stdout",
     "output_type": "stream",
     "text": [
      "dear\n"
     ]
    }
   ],
   "source": [
    "print(raw_vocab[0])"
   ]
  },
  {
   "cell_type": "code",
   "execution_count": 791,
   "id": "54342379",
   "metadata": {},
   "outputs": [
    {
     "name": "stdout",
     "output_type": "stream",
     "text": [
      "There are 5000 different tokens after cleaning\n"
     ]
    }
   ],
   "source": [
    "#keeping words that appear at least 20 times \n",
    "vocabulary_size = 5000\n",
    "bag_of_words = Counter(raw_vocab)\n",
    "vocab = [x[0] for x in bag_of_words.most_common(vocabulary_size)]\n",
    "print(\"There are\", len(vocab), \"different tokens after cleaning\")"
   ]
  },
  {
   "cell_type": "code",
   "execution_count": 792,
   "id": "42bc14b1",
   "metadata": {},
   "outputs": [],
   "source": [
    "#creating the vocabulary file (dictionary)\n",
    "with open(\"vocab.txt\", \"w\", encoding=\"utf-8\") as f:\n",
    "    for word in vocab:\n",
    "        f.write(word + \"\\n\")"
   ]
  },
  {
   "cell_type": "code",
   "execution_count": 793,
   "id": "ad27b5ef",
   "metadata": {},
   "outputs": [],
   "source": [
    "#Mapping\n",
    "word_to_index = {}\n",
    "index_to_word = {}\n",
    "for index, word in enumerate(vocab): #assign index to words in vocab\n",
    "    word_to_index[word] = index + 1 #index=word\n",
    "    index_to_word[index + 1] = word #index=number"
   ]
  },
  {
   "cell_type": "markdown",
   "id": "4321a265",
   "metadata": {},
   "source": []
  },
  {
   "cell_type": "code",
   "execution_count": 794,
   "id": "27f661f4",
   "metadata": {},
   "outputs": [],
   "source": [
    "#for this function ilies khdm biha fhis class \"MailDataset\" bsh idk elle sert a quoi apres, we'll see ida s7a9inaha\n",
    "#La fonction prend une liste de tokens en entrée et renvoie une liste d'entiers encodant ces tokens en utilisant un dictionnaire word_to_index qui associe chaque mot à un indice unique. La fonction filtre également les tokens qui ne sont pas présents dans le dictionnaire word_to_index.\n",
    "def transform(tokens):\n",
    "    #what about raw_vocab(exluding and,ect) and taking only >5000\n",
    "    encoded_tokens = [word_to_index.get(word, 0) for word in tokens if word in word_to_index]\n",
    "    return encoded_tokens"
   ]
  },
  {
   "cell_type": "code",
   "execution_count": 795,
   "id": "ba3d4c96",
   "metadata": {},
   "outputs": [
    {
     "data": {
      "text/plain": [
       "'dollar'"
      ]
     },
     "execution_count": 795,
     "metadata": {},
     "output_type": "execute_result"
    }
   ],
   "source": [
    "vocab[1]"
   ]
  },
  {
   "cell_type": "code",
   "execution_count": 796,
   "id": "ef6ded5e",
   "metadata": {},
   "outputs": [],
   "source": [
    "indexed_spam = []\n",
    "indexed_ham = []\n",
    "#tokenize and encode the spam emails and updating mails list\n",
    "for email in text_spam:\n",
    "    mail = [0] + transform(email)\n",
    "    indexed_spam.append(mail)\n",
    "\n",
    "#tokenize and encode the ham emails and updating mails list\n",
    "for email in text_ham:\n",
    "    mail = [0] + transform(email)\n",
    "    indexed_ham.append(mail)\n"
   ]
  },
  {
   "cell_type": "code",
   "execution_count": 797,
   "id": "b4981473",
   "metadata": {},
   "outputs": [
    {
     "name": "stdout",
     "output_type": "stream",
     "text": [
      "[0, 769, 295, 294, 399, 1344, 566, 399, 1344, 399, 852, 769, 852, 294, 566, 294, 399, 1828, 1226, 294, 1025, 294, 1769, 1025, 584, 399, 294, 587, 399, 769, 399, 294, 1344, 1025, 294, 1769, 566, 399, 1344, 1025, 294, 1769, 294, 1828, 1226, 295, 566, 399, 769, 399, 294, 399, 769, 1344, 769, 1199, 399, 294, 399, 769, 1344, 769, 294, 399, 1226, 295, 399, 769, 852, 294, 1025, 294, 399, 295, 295, 566, 295, 769, 1769, 399, 294, 1025, 294, 399, 1769, 399, 769, 399, 399, 566, 1344, 399, 566, 566, 1025, 294, 1769, 1025, 294, 1703, 1025, 566, 1226, 1344, 566, 738, 399, 769, 399, 769, 738, 294, 399, 399, 1025, 584, 1199, 769, 769, 852, 294, 769, 566, 399, 295, 769, 1025, 566, 399, 1769, 295, 399, 566, 769, 1025, 738, 1226, 399, 566, 566, 769, 399, 769, 769, 1344, 1226, 294, 769, 399, 738, 1226, 566, 566, 294, 399, 738, 1226, 769, 738, 294, 399, 1226, 566, 584, 1199, 769, 1199, 294, 399, 399, 769, 1199, 399, 1025, 1226, 294, 295, 1199, 295, 566, 295, 1703, 1226, 769, 1226, 852, 295, 294, 852, 294, 399, 295, 399, 1769, 399, 566, 294, 399, 1344, 769, 399, 584, 399, 852, 399, 769, 399, 1025, 294, 769, 399, 294, 399, 584, 769, 294, 399, 295, 399, 1769, 1025, 294, 769, 399, 294, 399, 566, 738, 738, 399, 294, 399, 566, 294, 1703, 399, 1226, 1025, 566, 399, 295, 566, 295, 1703, 399, 769, 852, 294, 399, 1025, 769, 852, 294, 399, 1703, 740, 769, 852, 294, 399, 740, 769, 852, 294, 399, 852, 740, 1703, 769, 852, 294, 399, 1199, 1344, 769, 852, 294, 399, 852, 1703, 769, 852, 294, 399, 769, 1703, 769, 852, 294]\n",
      "1397\n",
      "2551\n"
     ]
    }
   ],
   "source": [
    "print(indexed_spam[98])\n",
    "print(len(indexed_spam))\n",
    "print(len(indexed_ham))"
   ]
  },
  {
   "cell_type": "code",
   "execution_count": 798,
   "id": "a1f12406",
   "metadata": {},
   "outputs": [],
   "source": [
    "def email_to_feature_vector(email, vocab_list):\n",
    "    feature_vector = [0] * len(vocab_list)\n",
    "    words = set(email)\n",
    "    for i, word in enumerate(vocab_list):\n",
    "        if word in words:\n",
    "            feature_vector[i] = 1\n",
    "    return feature_vector"
   ]
  },
  {
   "cell_type": "code",
   "execution_count": 799,
   "id": "390a37c0",
   "metadata": {},
   "outputs": [],
   "source": [
    "indexes = list(word_to_index.values())\n",
    "spam_features = [email_to_feature_vector(email, indexes) for email in indexed_spam]\n",
    "ham_features = [email_to_feature_vector(email, indexes) for email in indexed_ham]"
   ]
  },
  {
   "cell_type": "code",
   "execution_count": 800,
   "id": "eef5d826",
   "metadata": {},
   "outputs": [
    {
     "name": "stdout",
     "output_type": "stream",
     "text": [
      "(1397, 5000)\n",
      "(2551, 5000)\n"
     ]
    }
   ],
   "source": [
    "spam_features_array = np.array(spam_features).reshape((len(spam_features), -1))\n",
    "ham_features_array = np.array(ham_features).reshape((len(ham_features), -1))\n",
    "\n",
    "# Print the shape of the array\n",
    "print(spam_features_array.shape)\n",
    "print(ham_features_array.shape)"
   ]
  },
  {
   "cell_type": "code",
   "execution_count": 801,
   "id": "cfc1348f",
   "metadata": {},
   "outputs": [],
   "source": [
    "# Create an array of labels (1 for spam, 0 for ham)\n",
    "spam_labels = np.ones((len(spam_features_array), 1))\n",
    "ham_labels = np.zeros((len(ham_features_array), 1))\n",
    "\n",
    "# concatenate the label arrays with the feature arrays along axis 1\n",
    "labeled_spam_features = np.concatenate((spam_features_array, spam_labels), axis=1)\n",
    "labeled_ham_features = np.concatenate((ham_features_array, ham_labels), axis=1)\n",
    "\n",
    "# concatenate the spam and ham arrays into a single array\n",
    "labeled_features = np.concatenate((labeled_spam_features, labeled_ham_features), axis=0)\n",
    "\n",
    "# Shuffle the data\n",
    "np.random.shuffle(labeled_features)"
   ]
  },
  {
   "cell_type": "code",
   "execution_count": 802,
   "id": "73df4857",
   "metadata": {},
   "outputs": [],
   "source": [
    "X = labeled_features[:, :-1]\n",
    "y = labeled_features[:, -1]"
   ]
  },
  {
   "cell_type": "code",
   "execution_count": 803,
   "id": "8388ae41",
   "metadata": {},
   "outputs": [],
   "source": [
    "X_train, X_test, y_train, y_test = train_test_split(X, y, test_size=0.3, random_state=42)"
   ]
  },
  {
   "cell_type": "code",
   "execution_count": 804,
   "id": "691d2ec9",
   "metadata": {},
   "outputs": [
    {
     "name": "stdout",
     "output_type": "stream",
     "text": [
      "Number of training emails:  2763\n",
      "Number of testing emails:  1185\n",
      "(2763, 5000)\n"
     ]
    }
   ],
   "source": [
    "print(\"Number of training emails: \", len(X_train))\n",
    "print(\"Number of testing emails: \", len(X_test))\n",
    "print(X_train.shape)"
   ]
  },
  {
   "cell_type": "code",
   "execution_count": 805,
   "id": "a9cf6316",
   "metadata": {},
   "outputs": [
    {
     "data": {
      "text/html": [
       "<style>#sk-container-id-21 {color: black;background-color: white;}#sk-container-id-21 pre{padding: 0;}#sk-container-id-21 div.sk-toggleable {background-color: white;}#sk-container-id-21 label.sk-toggleable__label {cursor: pointer;display: block;width: 100%;margin-bottom: 0;padding: 0.3em;box-sizing: border-box;text-align: center;}#sk-container-id-21 label.sk-toggleable__label-arrow:before {content: \"▸\";float: left;margin-right: 0.25em;color: #696969;}#sk-container-id-21 label.sk-toggleable__label-arrow:hover:before {color: black;}#sk-container-id-21 div.sk-estimator:hover label.sk-toggleable__label-arrow:before {color: black;}#sk-container-id-21 div.sk-toggleable__content {max-height: 0;max-width: 0;overflow: hidden;text-align: left;background-color: #f0f8ff;}#sk-container-id-21 div.sk-toggleable__content pre {margin: 0.2em;color: black;border-radius: 0.25em;background-color: #f0f8ff;}#sk-container-id-21 input.sk-toggleable__control:checked~div.sk-toggleable__content {max-height: 200px;max-width: 100%;overflow: auto;}#sk-container-id-21 input.sk-toggleable__control:checked~label.sk-toggleable__label-arrow:before {content: \"▾\";}#sk-container-id-21 div.sk-estimator input.sk-toggleable__control:checked~label.sk-toggleable__label {background-color: #d4ebff;}#sk-container-id-21 div.sk-label input.sk-toggleable__control:checked~label.sk-toggleable__label {background-color: #d4ebff;}#sk-container-id-21 input.sk-hidden--visually {border: 0;clip: rect(1px 1px 1px 1px);clip: rect(1px, 1px, 1px, 1px);height: 1px;margin: -1px;overflow: hidden;padding: 0;position: absolute;width: 1px;}#sk-container-id-21 div.sk-estimator {font-family: monospace;background-color: #f0f8ff;border: 1px dotted black;border-radius: 0.25em;box-sizing: border-box;margin-bottom: 0.5em;}#sk-container-id-21 div.sk-estimator:hover {background-color: #d4ebff;}#sk-container-id-21 div.sk-parallel-item::after {content: \"\";width: 100%;border-bottom: 1px solid gray;flex-grow: 1;}#sk-container-id-21 div.sk-label:hover label.sk-toggleable__label {background-color: #d4ebff;}#sk-container-id-21 div.sk-serial::before {content: \"\";position: absolute;border-left: 1px solid gray;box-sizing: border-box;top: 0;bottom: 0;left: 50%;z-index: 0;}#sk-container-id-21 div.sk-serial {display: flex;flex-direction: column;align-items: center;background-color: white;padding-right: 0.2em;padding-left: 0.2em;position: relative;}#sk-container-id-21 div.sk-item {position: relative;z-index: 1;}#sk-container-id-21 div.sk-parallel {display: flex;align-items: stretch;justify-content: center;background-color: white;position: relative;}#sk-container-id-21 div.sk-item::before, #sk-container-id-21 div.sk-parallel-item::before {content: \"\";position: absolute;border-left: 1px solid gray;box-sizing: border-box;top: 0;bottom: 0;left: 50%;z-index: -1;}#sk-container-id-21 div.sk-parallel-item {display: flex;flex-direction: column;z-index: 1;position: relative;background-color: white;}#sk-container-id-21 div.sk-parallel-item:first-child::after {align-self: flex-end;width: 50%;}#sk-container-id-21 div.sk-parallel-item:last-child::after {align-self: flex-start;width: 50%;}#sk-container-id-21 div.sk-parallel-item:only-child::after {width: 0;}#sk-container-id-21 div.sk-dashed-wrapped {border: 1px dashed gray;margin: 0 0.4em 0.5em 0.4em;box-sizing: border-box;padding-bottom: 0.4em;background-color: white;}#sk-container-id-21 div.sk-label label {font-family: monospace;font-weight: bold;display: inline-block;line-height: 1.2em;}#sk-container-id-21 div.sk-label-container {text-align: center;}#sk-container-id-21 div.sk-container {/* jupyter's `normalize.less` sets `[hidden] { display: none; }` but bootstrap.min.css set `[hidden] { display: none !important; }` so we also need the `!important` here to be able to override the default hidden behavior on the sphinx rendered scikit-learn.org. See: https://github.com/scikit-learn/scikit-learn/issues/21755 */display: inline-block !important;position: relative;}#sk-container-id-21 div.sk-text-repr-fallback {display: none;}</style><div id=\"sk-container-id-21\" class=\"sk-top-container\"><div class=\"sk-text-repr-fallback\"><pre>SVC(C=0.1, kernel=&#x27;linear&#x27;, random_state=42)</pre><b>In a Jupyter environment, please rerun this cell to show the HTML representation or trust the notebook. <br />On GitHub, the HTML representation is unable to render, please try loading this page with nbviewer.org.</b></div><div class=\"sk-container\" hidden><div class=\"sk-item\"><div class=\"sk-estimator sk-toggleable\"><input class=\"sk-toggleable__control sk-hidden--visually\" id=\"sk-estimator-id-21\" type=\"checkbox\" checked><label for=\"sk-estimator-id-21\" class=\"sk-toggleable__label sk-toggleable__label-arrow\">SVC</label><div class=\"sk-toggleable__content\"><pre>SVC(C=0.1, kernel=&#x27;linear&#x27;, random_state=42)</pre></div></div></div></div></div>"
      ],
      "text/plain": [
       "SVC(C=0.1, kernel='linear', random_state=42)"
      ]
     },
     "execution_count": 805,
     "metadata": {},
     "output_type": "execute_result"
    }
   ],
   "source": [
    "bin_svm_model = svm.SVC(C=0.1, kernel=\"linear\", random_state=seed)\n",
    "bin_svm_model.fit(X_train, y_train)"
   ]
  },
  {
   "cell_type": "code",
   "execution_count": 806,
   "id": "9dc1fd64",
   "metadata": {},
   "outputs": [
    {
     "name": "stdout",
     "output_type": "stream",
     "text": [
      "test accuracy: 69.7890295359%\n"
     ]
    }
   ],
   "source": [
    "test_prediction = bin_svm_model.predict(X_test)\n",
    "\n",
    "test_accuracy = (test_prediction == y_test).mean() * 100\n",
    "\n",
    "print(\"test accuracy: {0:.10f}%\".format(test_accuracy))"
   ]
  },
  {
   "cell_type": "code",
   "execution_count": 807,
   "id": "dab7dc72",
   "metadata": {},
   "outputs": [
    {
     "ename": "ValueError",
     "evalue": "X has 5606 features, but SVC is expecting 5000 features as input.",
     "output_type": "error",
     "traceback": [
      "\u001b[1;31m---------------------------------------------------------------------------\u001b[0m",
      "\u001b[1;31mValueError\u001b[0m                                Traceback (most recent call last)",
      "Cell \u001b[1;32mIn[807], line 1\u001b[0m\n\u001b[1;32m----> 1\u001b[0m rain_prediction_scores \u001b[39m=\u001b[39m bin_svm_model\u001b[39m.\u001b[39;49mdecision_function(train_X)\n\u001b[0;32m      2\u001b[0m test_prediction_scores \u001b[39m=\u001b[39m bin_svm_model\u001b[39m.\u001b[39mdecision_function(test_X)\n\u001b[0;32m      4\u001b[0m fpr, tpr, thresholds \u001b[39m=\u001b[39m roc_curve(test_y, test_prediction_scores)\n",
      "File \u001b[1;32mc:\\Users\\Asus Zenbook Flip\\AppData\\Local\\Programs\\Python\\Python311\\Lib\\site-packages\\sklearn\\svm\\_base.py:785\u001b[0m, in \u001b[0;36mBaseSVC.decision_function\u001b[1;34m(self, X)\u001b[0m\n\u001b[0;32m    758\u001b[0m \u001b[39mdef\u001b[39;00m \u001b[39mdecision_function\u001b[39m(\u001b[39mself\u001b[39m, X):\n\u001b[0;32m    759\u001b[0m \u001b[39m    \u001b[39m\u001b[39m\"\"\"Evaluate the decision function for the samples in X.\u001b[39;00m\n\u001b[0;32m    760\u001b[0m \n\u001b[0;32m    761\u001b[0m \u001b[39m    Parameters\u001b[39;00m\n\u001b[1;32m   (...)\u001b[0m\n\u001b[0;32m    783\u001b[0m \u001b[39m    transformation of ovo decision function.\u001b[39;00m\n\u001b[0;32m    784\u001b[0m \u001b[39m    \"\"\"\u001b[39;00m\n\u001b[1;32m--> 785\u001b[0m     dec \u001b[39m=\u001b[39m \u001b[39mself\u001b[39;49m\u001b[39m.\u001b[39;49m_decision_function(X)\n\u001b[0;32m    786\u001b[0m     \u001b[39mif\u001b[39;00m \u001b[39mself\u001b[39m\u001b[39m.\u001b[39mdecision_function_shape \u001b[39m==\u001b[39m \u001b[39m\"\u001b[39m\u001b[39movr\u001b[39m\u001b[39m\"\u001b[39m \u001b[39mand\u001b[39;00m \u001b[39mlen\u001b[39m(\u001b[39mself\u001b[39m\u001b[39m.\u001b[39mclasses_) \u001b[39m>\u001b[39m \u001b[39m2\u001b[39m:\n\u001b[0;32m    787\u001b[0m         \u001b[39mreturn\u001b[39;00m _ovr_decision_function(dec \u001b[39m<\u001b[39m \u001b[39m0\u001b[39m, \u001b[39m-\u001b[39mdec, \u001b[39mlen\u001b[39m(\u001b[39mself\u001b[39m\u001b[39m.\u001b[39mclasses_))\n",
      "File \u001b[1;32mc:\\Users\\Asus Zenbook Flip\\AppData\\Local\\Programs\\Python\\Python311\\Lib\\site-packages\\sklearn\\svm\\_base.py:534\u001b[0m, in \u001b[0;36mBaseLibSVM._decision_function\u001b[1;34m(self, X)\u001b[0m\n\u001b[0;32m    520\u001b[0m \u001b[39m\u001b[39m\u001b[39m\"\"\"Evaluates the decision function for the samples in X.\u001b[39;00m\n\u001b[0;32m    521\u001b[0m \n\u001b[0;32m    522\u001b[0m \u001b[39mParameters\u001b[39;00m\n\u001b[1;32m   (...)\u001b[0m\n\u001b[0;32m    530\u001b[0m \u001b[39m    in the model.\u001b[39;00m\n\u001b[0;32m    531\u001b[0m \u001b[39m\"\"\"\u001b[39;00m\n\u001b[0;32m    532\u001b[0m \u001b[39m# NOTE: _validate_for_predict contains check for is_fitted\u001b[39;00m\n\u001b[0;32m    533\u001b[0m \u001b[39m# hence must be placed before any other attributes are used.\u001b[39;00m\n\u001b[1;32m--> 534\u001b[0m X \u001b[39m=\u001b[39m \u001b[39mself\u001b[39;49m\u001b[39m.\u001b[39;49m_validate_for_predict(X)\n\u001b[0;32m    535\u001b[0m X \u001b[39m=\u001b[39m \u001b[39mself\u001b[39m\u001b[39m.\u001b[39m_compute_kernel(X)\n\u001b[0;32m    537\u001b[0m \u001b[39mif\u001b[39;00m \u001b[39mself\u001b[39m\u001b[39m.\u001b[39m_sparse:\n",
      "File \u001b[1;32mc:\\Users\\Asus Zenbook Flip\\AppData\\Local\\Programs\\Python\\Python311\\Lib\\site-packages\\sklearn\\svm\\_base.py:613\u001b[0m, in \u001b[0;36mBaseLibSVM._validate_for_predict\u001b[1;34m(self, X)\u001b[0m\n\u001b[0;32m    610\u001b[0m check_is_fitted(\u001b[39mself\u001b[39m)\n\u001b[0;32m    612\u001b[0m \u001b[39mif\u001b[39;00m \u001b[39mnot\u001b[39;00m callable(\u001b[39mself\u001b[39m\u001b[39m.\u001b[39mkernel):\n\u001b[1;32m--> 613\u001b[0m     X \u001b[39m=\u001b[39m \u001b[39mself\u001b[39;49m\u001b[39m.\u001b[39;49m_validate_data(\n\u001b[0;32m    614\u001b[0m         X,\n\u001b[0;32m    615\u001b[0m         accept_sparse\u001b[39m=\u001b[39;49m\u001b[39m\"\u001b[39;49m\u001b[39mcsr\u001b[39;49m\u001b[39m\"\u001b[39;49m,\n\u001b[0;32m    616\u001b[0m         dtype\u001b[39m=\u001b[39;49mnp\u001b[39m.\u001b[39;49mfloat64,\n\u001b[0;32m    617\u001b[0m         order\u001b[39m=\u001b[39;49m\u001b[39m\"\u001b[39;49m\u001b[39mC\u001b[39;49m\u001b[39m\"\u001b[39;49m,\n\u001b[0;32m    618\u001b[0m         accept_large_sparse\u001b[39m=\u001b[39;49m\u001b[39mFalse\u001b[39;49;00m,\n\u001b[0;32m    619\u001b[0m         reset\u001b[39m=\u001b[39;49m\u001b[39mFalse\u001b[39;49;00m,\n\u001b[0;32m    620\u001b[0m     )\n\u001b[0;32m    622\u001b[0m \u001b[39mif\u001b[39;00m \u001b[39mself\u001b[39m\u001b[39m.\u001b[39m_sparse \u001b[39mand\u001b[39;00m \u001b[39mnot\u001b[39;00m sp\u001b[39m.\u001b[39misspmatrix(X):\n\u001b[0;32m    623\u001b[0m     X \u001b[39m=\u001b[39m sp\u001b[39m.\u001b[39mcsr_matrix(X)\n",
      "File \u001b[1;32mc:\\Users\\Asus Zenbook Flip\\AppData\\Local\\Programs\\Python\\Python311\\Lib\\site-packages\\sklearn\\base.py:569\u001b[0m, in \u001b[0;36mBaseEstimator._validate_data\u001b[1;34m(self, X, y, reset, validate_separately, **check_params)\u001b[0m\n\u001b[0;32m    566\u001b[0m     out \u001b[39m=\u001b[39m X, y\n\u001b[0;32m    568\u001b[0m \u001b[39mif\u001b[39;00m \u001b[39mnot\u001b[39;00m no_val_X \u001b[39mand\u001b[39;00m check_params\u001b[39m.\u001b[39mget(\u001b[39m\"\u001b[39m\u001b[39mensure_2d\u001b[39m\u001b[39m\"\u001b[39m, \u001b[39mTrue\u001b[39;00m):\n\u001b[1;32m--> 569\u001b[0m     \u001b[39mself\u001b[39;49m\u001b[39m.\u001b[39;49m_check_n_features(X, reset\u001b[39m=\u001b[39;49mreset)\n\u001b[0;32m    571\u001b[0m \u001b[39mreturn\u001b[39;00m out\n",
      "File \u001b[1;32mc:\\Users\\Asus Zenbook Flip\\AppData\\Local\\Programs\\Python\\Python311\\Lib\\site-packages\\sklearn\\base.py:370\u001b[0m, in \u001b[0;36mBaseEstimator._check_n_features\u001b[1;34m(self, X, reset)\u001b[0m\n\u001b[0;32m    367\u001b[0m     \u001b[39mreturn\u001b[39;00m\n\u001b[0;32m    369\u001b[0m \u001b[39mif\u001b[39;00m n_features \u001b[39m!=\u001b[39m \u001b[39mself\u001b[39m\u001b[39m.\u001b[39mn_features_in_:\n\u001b[1;32m--> 370\u001b[0m     \u001b[39mraise\u001b[39;00m \u001b[39mValueError\u001b[39;00m(\n\u001b[0;32m    371\u001b[0m         \u001b[39mf\u001b[39m\u001b[39m\"\u001b[39m\u001b[39mX has \u001b[39m\u001b[39m{\u001b[39;00mn_features\u001b[39m}\u001b[39;00m\u001b[39m features, but \u001b[39m\u001b[39m{\u001b[39;00m\u001b[39mself\u001b[39m\u001b[39m.\u001b[39m\u001b[39m__class__\u001b[39m\u001b[39m.\u001b[39m\u001b[39m__name__\u001b[39m\u001b[39m}\u001b[39;00m\u001b[39m \u001b[39m\u001b[39m\"\u001b[39m\n\u001b[0;32m    372\u001b[0m         \u001b[39mf\u001b[39m\u001b[39m\"\u001b[39m\u001b[39mis expecting \u001b[39m\u001b[39m{\u001b[39;00m\u001b[39mself\u001b[39m\u001b[39m.\u001b[39mn_features_in_\u001b[39m}\u001b[39;00m\u001b[39m features as input.\u001b[39m\u001b[39m\"\u001b[39m\n\u001b[0;32m    373\u001b[0m     )\n",
      "\u001b[1;31mValueError\u001b[0m: X has 5606 features, but SVC is expecting 5000 features as input."
     ]
    }
   ],
   "source": [
    "rain_prediction_scores = bin_svm_model.decision_function(train_X)\n",
    "test_prediction_scores = bin_svm_model.decision_function(test_X)\n",
    "\n",
    "fpr, tpr, thresholds = roc_curve(test_y, test_prediction_scores)\n",
    "\n",
    "gmeans = np.sqrt(tpr * (1-fpr))\n",
    "ix = np.argmax(gmeans)\n",
    "threshold = thresholds[ix]\n",
    "test_prediction = np.asarray([ 1 if x > threshold else 0 for x in test_prediction_scores])\n",
    "print(\"with threshold = {0} | test accuracy is {1:.2f}%\"\n",
    "      .format(threshold, (test_prediction==np.asarray(test_y)).mean() * 100))\n",
    "\n",
    "plt.plot(fpr, tpr, linewidth=2)\n",
    "plt.plot([0, 1], [0, 1], 'k--')\n",
    "plt.ylabel(\"True positive rate (recall)\")\n",
    "plt.xlabel(\"False positive rate\")"
   ]
  }
 ],
 "metadata": {
  "kernelspec": {
   "display_name": "Python 3 (ipykernel)",
   "language": "python",
   "name": "python3"
  },
  "language_info": {
   "codemirror_mode": {
    "name": "ipython",
    "version": 3
   },
   "file_extension": ".py",
   "mimetype": "text/x-python",
   "name": "python",
   "nbconvert_exporter": "python",
   "pygments_lexer": "ipython3",
   "version": "3.11.1"
  }
 },
 "nbformat": 4,
 "nbformat_minor": 5
}
